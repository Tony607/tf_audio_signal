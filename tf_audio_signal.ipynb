{
  "nbformat": 4,
  "nbformat_minor": 0,
  "metadata": {
    "colab": {
      "name": "tf_audio_signal.ipynb",
      "version": "0.3.2",
      "provenance": [],
      "collapsed_sections": []
    },
    "kernelspec": {
      "name": "python3",
      "display_name": "Python 3"
    },
    "accelerator": "GPU"
  },
  "cells": [
    {
      "metadata": {
        "id": "as5E5bF7w1OA",
        "colab_type": "text"
      },
      "cell_type": "markdown",
      "source": [
        "# [How to run GPU accelerated Signal Processing in TensorFlow](https://www.dlology.com/blog/how-to-run-gpu-accelerated-signal-processing-in-tensorflow/)\n"
      ]
    },
    {
      "metadata": {
        "id": "IAkNksmyw1OD",
        "colab_type": "code",
        "outputId": "c98c0788-084f-443e-9417-10afbdeac802",
        "colab": {
          "base_uri": "https://localhost:8080/",
          "height": 35
        }
      },
      "cell_type": "code",
      "source": [
        "from __future__ import absolute_import, division, print_function\n",
        "import tensorflow as tf\n",
        "tf.enable_eager_execution()\n",
        "print(tf.__version__)\n",
        "import numpy as np"
      ],
      "execution_count": 1,
      "outputs": [
        {
          "output_type": "stream",
          "text": [
            "1.12.0-rc1\n"
          ],
          "name": "stdout"
        }
      ]
    },
    {
      "metadata": {
        "id": "cKvRVYJWw1OO",
        "colab_type": "text"
      },
      "cell_type": "markdown",
      "source": [
        "## Check eager execution is enabled"
      ]
    },
    {
      "metadata": {
        "id": "4KCOW_OBw1OO",
        "colab_type": "code",
        "outputId": "052ab2f5-124c-48f3-fa4c-a43ef61e52da",
        "colab": {
          "base_uri": "https://localhost:8080/",
          "height": 54
        }
      },
      "cell_type": "code",
      "source": [
        "print(tf.executing_eagerly())        # => True\n",
        "\n",
        "x = [[2.]]\n",
        "m = tf.matmul(x, x)\n",
        "print(\"hello, {}\".format(m))  # => \"hello, [[4.]]\""
      ],
      "execution_count": 2,
      "outputs": [
        {
          "output_type": "stream",
          "text": [
            "True\n",
            "hello, [[4.]]\n"
          ],
          "name": "stdout"
        }
      ]
    },
    {
      "metadata": {
        "id": "gVk5XaaZw1OV",
        "colab_type": "code",
        "colab": {}
      },
      "cell_type": "code",
      "source": [
        "import matplotlib.pyplot as plt\n",
        "%matplotlib inline"
      ],
      "execution_count": 0,
      "outputs": []
    },
    {
      "metadata": {
        "colab_type": "code",
        "id": "0sr3JTmQt--2",
        "colab": {}
      },
      "cell_type": "code",
      "source": [
        "!pip install -q librosa"
      ],
      "execution_count": 0,
      "outputs": []
    },
    {
      "metadata": {
        "id": "5t_jsjhVw1Pu",
        "colab_type": "code",
        "outputId": "3ba50983-8c3a-4149-8a5a-444a19ea2809",
        "colab": {
          "base_uri": "https://localhost:8080/",
          "height": 10417
        }
      },
      "cell_type": "code",
      "source": [
        "!apt update -qq\n",
        "!apt install -y -qq ffmpeg"
      ],
      "execution_count": 5,
      "outputs": [
        {
          "output_type": "stream",
          "text": [
            "2 packages can be upgraded. Run 'apt list --upgradable' to see them.\n",
            "The following additional packages will be installed:\n",
            "  fontconfig i965-va-driver libaacs0 libasound2 libasound2-data libass9\n",
            "  libasyncns0 libavc1394-0 libavcodec57 libavdevice57 libavfilter6\n",
            "  libavformat57 libavresample3 libavutil55 libbdplus0 libbluray2 libbs2b0\n",
            "  libcaca0 libcairo2 libcdio-cdda2 libcdio-paranoia2 libcdio17 libchromaprint1\n",
            "  libcroco3 libcrystalhd3 libdatrie1 libdc1394-22 libdrm-amdgpu1 libdrm-intel1\n",
            "  libdrm-nouveau2 libdrm-radeon1 libfftw3-double3 libflac8 libflite1\n",
            "  libfribidi0 libgdk-pixbuf2.0-0 libgdk-pixbuf2.0-bin libgdk-pixbuf2.0-common\n",
            "  libgl1 libgl1-mesa-dri libglx-mesa0 libglx0 libgme0 libgsm1 libiec61883-0\n",
            "  libjack-jackd2-0 libjbig0 libllvm6.0 libmp3lame0 libmpg123-0 libmysofa0\n",
            "  libnuma1 libogg0 libopenal-data libopenal1 libopenjp2-7 libopenmpt0 libopus0\n",
            "  libpango-1.0-0 libpangocairo-1.0-0 libpangoft2-1.0-0 libpciaccess0\n",
            "  libpixman-1-0 libpostproc54 libpulse0 libraw1394-11 librsvg2-2\n",
            "  librsvg2-common librubberband2 libsamplerate0 libsdl2-2.0-0 libsensors4\n",
            "  libshine3 libslang2 libsnappy1v5 libsndfile1 libsndio6.1 libsoxr0 libspeex1\n",
            "  libssh-gcrypt-4 libswresample2 libswscale4 libthai-data libthai0 libtheora0\n",
            "  libtiff5 libtwolame0 libusb-1.0-0 libva-drm2 libva-x11-2 libva2 libvdpau1\n",
            "  libvorbis0a libvorbisenc2 libvorbisfile3 libvpx5 libwavpack1\n",
            "  libwayland-cursor0 libwayland-egl1-mesa libwebp6 libwebpmux3 libwrap0\n",
            "  libx264-152 libx265-146 libxcb-glx0 libxcb-render0 libxcb-shape0 libxcb-shm0\n",
            "  libxcursor1 libxdamage1 libxfixes3 libxi6 libxinerama1 libxkbcommon0\n",
            "  libxrandr2 libxv1 libxvidcore4 libxxf86vm1 libzvbi-common libzvbi0\n",
            "  mesa-va-drivers mesa-vdpau-drivers shared-mime-info va-driver-all\n",
            "  vdpau-driver-all xkb-data\n",
            "Suggested packages:\n",
            "  ffmpeg-doc i965-va-driver-shaders libasound2-plugins alsa-utils\n",
            "  libbluray-bdj firmware-crystalhd libfftw3-bin libfftw3-dev jackd2\n",
            "  libportaudio2 opus-tools pciutils pulseaudio libraw1394-doc librsvg2-bin\n",
            "  lm-sensors sndiod speex libvdpau-va-gl1 nvidia-vdpau-driver\n",
            "  nvidia-legacy-340xx-vdpau-driver\n",
            "The following NEW packages will be installed:\n",
            "  ffmpeg fontconfig i965-va-driver libaacs0 libasound2 libasound2-data libass9\n",
            "  libasyncns0 libavc1394-0 libavcodec57 libavdevice57 libavfilter6\n",
            "  libavformat57 libavresample3 libavutil55 libbdplus0 libbluray2 libbs2b0\n",
            "  libcaca0 libcairo2 libcdio-cdda2 libcdio-paranoia2 libcdio17 libchromaprint1\n",
            "  libcroco3 libcrystalhd3 libdatrie1 libdc1394-22 libdrm-amdgpu1 libdrm-intel1\n",
            "  libdrm-nouveau2 libdrm-radeon1 libfftw3-double3 libflac8 libflite1\n",
            "  libfribidi0 libgdk-pixbuf2.0-0 libgdk-pixbuf2.0-bin libgdk-pixbuf2.0-common\n",
            "  libgl1 libgl1-mesa-dri libglx-mesa0 libglx0 libgme0 libgsm1 libiec61883-0\n",
            "  libjack-jackd2-0 libjbig0 libllvm6.0 libmp3lame0 libmpg123-0 libmysofa0\n",
            "  libnuma1 libogg0 libopenal-data libopenal1 libopenjp2-7 libopenmpt0 libopus0\n",
            "  libpango-1.0-0 libpangocairo-1.0-0 libpangoft2-1.0-0 libpciaccess0\n",
            "  libpixman-1-0 libpostproc54 libpulse0 libraw1394-11 librsvg2-2\n",
            "  librsvg2-common librubberband2 libsamplerate0 libsdl2-2.0-0 libsensors4\n",
            "  libshine3 libslang2 libsnappy1v5 libsndfile1 libsndio6.1 libsoxr0 libspeex1\n",
            "  libssh-gcrypt-4 libswresample2 libswscale4 libthai-data libthai0 libtheora0\n",
            "  libtiff5 libtwolame0 libusb-1.0-0 libva-drm2 libva-x11-2 libva2 libvdpau1\n",
            "  libvorbis0a libvorbisenc2 libvorbisfile3 libvpx5 libwavpack1\n",
            "  libwayland-cursor0 libwayland-egl1-mesa libwebp6 libwebpmux3 libwrap0\n",
            "  libx264-152 libx265-146 libxcb-glx0 libxcb-render0 libxcb-shape0 libxcb-shm0\n",
            "  libxcursor1 libxdamage1 libxfixes3 libxi6 libxinerama1 libxkbcommon0\n",
            "  libxrandr2 libxv1 libxvidcore4 libxxf86vm1 libzvbi-common libzvbi0\n",
            "  mesa-va-drivers mesa-vdpau-drivers shared-mime-info va-driver-all\n",
            "  vdpau-driver-all xkb-data\n",
            "0 upgraded, 127 newly installed, 0 to remove and 2 not upgraded.\n",
            "Need to get 60.5 MB of archives.\n",
            "After this operation, 355 MB of additional disk space will be used.\n",
            "Extracting templates from packages: 100%\n",
            "Selecting previously unselected package fontconfig.\n",
            "(Reading database ... 22280 files and directories currently installed.)\n",
            "Preparing to unpack .../000-fontconfig_2.12.6-0ubuntu2_amd64.deb ...\n",
            "Unpacking fontconfig (2.12.6-0ubuntu2) ...\n",
            "Selecting previously unselected package libogg0:amd64.\n",
            "Preparing to unpack .../001-libogg0_1.3.2-1_amd64.deb ...\n",
            "Unpacking libogg0:amd64 (1.3.2-1) ...\n",
            "Selecting previously unselected package libxinerama1:amd64.\n",
            "Preparing to unpack .../002-libxinerama1_2%3a1.1.3-1_amd64.deb ...\n",
            "Unpacking libxinerama1:amd64 (2:1.1.3-1) ...\n",
            "Selecting previously unselected package libxxf86vm1:amd64.\n",
            "Preparing to unpack .../003-libxxf86vm1_1%3a1.1.4-1_amd64.deb ...\n",
            "Unpacking libxxf86vm1:amd64 (1:1.1.4-1) ...\n",
            "Selecting previously unselected package libfribidi0:amd64.\n",
            "Preparing to unpack .../004-libfribidi0_0.19.7-2_amd64.deb ...\n",
            "Unpacking libfribidi0:amd64 (0.19.7-2) ...\n",
            "Selecting previously unselected package libslang2:amd64.\n",
            "Preparing to unpack .../005-libslang2_2.3.1a-3ubuntu1_amd64.deb ...\n",
            "Unpacking libslang2:amd64 (2.3.1a-3ubuntu1) ...\n",
            "Selecting previously unselected package shared-mime-info.\n",
            "Preparing to unpack .../006-shared-mime-info_1.9-2_amd64.deb ...\n",
            "Unpacking shared-mime-info (1.9-2) ...\n",
            "Selecting previously unselected package xkb-data.\n",
            "Preparing to unpack .../007-xkb-data_2.23.1-1ubuntu1_all.deb ...\n",
            "Unpacking xkb-data (2.23.1-1ubuntu1) ...\n",
            "Selecting previously unselected package libnuma1:amd64.\n",
            "Preparing to unpack .../008-libnuma1_2.0.11-2.1_amd64.deb ...\n",
            "Unpacking libnuma1:amd64 (2.0.11-2.1) ...\n",
            "Selecting previously unselected package libusb-1.0-0:amd64.\n",
            "Preparing to unpack .../009-libusb-1.0-0_2%3a1.0.21-2_amd64.deb ...\n",
            "Unpacking libusb-1.0-0:amd64 (2:1.0.21-2) ...\n",
            "Selecting previously unselected package libva2:amd64.\n",
            "Preparing to unpack .../010-libva2_2.1.0-3_amd64.deb ...\n",
            "Unpacking libva2:amd64 (2.1.0-3) ...\n",
            "Selecting previously unselected package libva-drm2:amd64.\n",
            "Preparing to unpack .../011-libva-drm2_2.1.0-3_amd64.deb ...\n",
            "Unpacking libva-drm2:amd64 (2.1.0-3) ...\n",
            "Selecting previously unselected package libxfixes3:amd64.\n",
            "Preparing to unpack .../012-libxfixes3_1%3a5.0.3-1_amd64.deb ...\n",
            "Unpacking libxfixes3:amd64 (1:5.0.3-1) ...\n",
            "Selecting previously unselected package libva-x11-2:amd64.\n",
            "Preparing to unpack .../013-libva-x11-2_2.1.0-3_amd64.deb ...\n",
            "Unpacking libva-x11-2:amd64 (2.1.0-3) ...\n",
            "Selecting previously unselected package libvdpau1:amd64.\n",
            "Preparing to unpack .../014-libvdpau1_1.1.1-3ubuntu1_amd64.deb ...\n",
            "Unpacking libvdpau1:amd64 (1.1.1-3ubuntu1) ...\n",
            "Selecting previously unselected package libavutil55:amd64.\n",
            "Preparing to unpack .../015-libavutil55_7%3a3.4.4-0ubuntu0.18.04.1_amd64.deb ...\n",
            "Unpacking libavutil55:amd64 (7:3.4.4-0ubuntu0.18.04.1) ...\n",
            "Selecting previously unselected package libpixman-1-0:amd64.\n",
            "Preparing to unpack .../016-libpixman-1-0_0.34.0-2_amd64.deb ...\n",
            "Unpacking libpixman-1-0:amd64 (0.34.0-2) ...\n",
            "Selecting previously unselected package libxcb-render0:amd64.\n",
            "Preparing to unpack .../017-libxcb-render0_1.13-1_amd64.deb ...\n",
            "Unpacking libxcb-render0:amd64 (1.13-1) ...\n",
            "Selecting previously unselected package libxcb-shm0:amd64.\n",
            "Preparing to unpack .../018-libxcb-shm0_1.13-1_amd64.deb ...\n",
            "Unpacking libxcb-shm0:amd64 (1.13-1) ...\n",
            "Selecting previously unselected package libcairo2:amd64.\n",
            "Preparing to unpack .../019-libcairo2_1.15.10-2_amd64.deb ...\n",
            "Unpacking libcairo2:amd64 (1.15.10-2) ...\n",
            "Selecting previously unselected package libcrystalhd3:amd64.\n",
            "Preparing to unpack .../020-libcrystalhd3_1%3a0.0~git20110715.fdd2f19-12_amd64.deb ...\n",
            "Unpacking libcrystalhd3:amd64 (1:0.0~git20110715.fdd2f19-12) ...\n",
            "Selecting previously unselected package libgsm1:amd64.\n",
            "Preparing to unpack .../021-libgsm1_1.0.13-4build1_amd64.deb ...\n",
            "Unpacking libgsm1:amd64 (1.0.13-4build1) ...\n",
            "Selecting previously unselected package libmp3lame0:amd64.\n",
            "Preparing to unpack .../022-libmp3lame0_3.100-2_amd64.deb ...\n",
            "Unpacking libmp3lame0:amd64 (3.100-2) ...\n",
            "Selecting previously unselected package libopenjp2-7:amd64.\n",
            "Preparing to unpack .../023-libopenjp2-7_2.3.0-1_amd64.deb ...\n",
            "Unpacking libopenjp2-7:amd64 (2.3.0-1) ...\n",
            "Selecting previously unselected package libopus0:amd64.\n",
            "Preparing to unpack .../024-libopus0_1.1.2-1ubuntu1_amd64.deb ...\n",
            "Unpacking libopus0:amd64 (1.1.2-1ubuntu1) ...\n",
            "Selecting previously unselected package libcroco3:amd64.\n",
            "Preparing to unpack .../025-libcroco3_0.6.12-2_amd64.deb ...\n",
            "Unpacking libcroco3:amd64 (0.6.12-2) ...\n",
            "Selecting previously unselected package libjbig0:amd64.\n",
            "Preparing to unpack .../026-libjbig0_2.1-3.1build1_amd64.deb ...\n",
            "Unpacking libjbig0:amd64 (2.1-3.1build1) ...\n",
            "Selecting previously unselected package libtiff5:amd64.\n",
            "Preparing to unpack .../027-libtiff5_4.0.9-5_amd64.deb ...\n",
            "Unpacking libtiff5:amd64 (4.0.9-5) ...\n",
            "Selecting previously unselected package libgdk-pixbuf2.0-common.\n",
            "Preparing to unpack .../028-libgdk-pixbuf2.0-common_2.36.11-2_all.deb ...\n",
            "Unpacking libgdk-pixbuf2.0-common (2.36.11-2) ...\n",
            "Selecting previously unselected package libgdk-pixbuf2.0-0:amd64.\n",
            "Preparing to unpack .../029-libgdk-pixbuf2.0-0_2.36.11-2_amd64.deb ...\n",
            "Unpacking libgdk-pixbuf2.0-0:amd64 (2.36.11-2) ...\n",
            "Selecting previously unselected package libthai-data.\n",
            "Preparing to unpack .../030-libthai-data_0.1.27-2_all.deb ...\n",
            "Unpacking libthai-data (0.1.27-2) ...\n",
            "Selecting previously unselected package libdatrie1:amd64.\n",
            "Preparing to unpack .../031-libdatrie1_0.2.10-7_amd64.deb ...\n",
            "Unpacking libdatrie1:amd64 (0.2.10-7) ...\n",
            "Selecting previously unselected package libthai0:amd64.\n",
            "Preparing to unpack .../032-libthai0_0.1.27-2_amd64.deb ...\n",
            "Unpacking libthai0:amd64 (0.1.27-2) ...\n",
            "Selecting previously unselected package libpango-1.0-0:amd64.\n",
            "Preparing to unpack .../033-libpango-1.0-0_1.40.14-1ubuntu0.1_amd64.deb ...\n",
            "Unpacking libpango-1.0-0:amd64 (1.40.14-1ubuntu0.1) ...\n",
            "Selecting previously unselected package libpangoft2-1.0-0:amd64.\n",
            "Preparing to unpack .../034-libpangoft2-1.0-0_1.40.14-1ubuntu0.1_amd64.deb ...\n",
            "Unpacking libpangoft2-1.0-0:amd64 (1.40.14-1ubuntu0.1) ...\n",
            "Selecting previously unselected package libpangocairo-1.0-0:amd64.\n",
            "Preparing to unpack .../035-libpangocairo-1.0-0_1.40.14-1ubuntu0.1_amd64.deb ...\n",
            "Unpacking libpangocairo-1.0-0:amd64 (1.40.14-1ubuntu0.1) ...\n",
            "Selecting previously unselected package librsvg2-2:amd64.\n",
            "Preparing to unpack .../036-librsvg2-2_2.40.20-2_amd64.deb ...\n",
            "Unpacking librsvg2-2:amd64 (2.40.20-2) ...\n",
            "Selecting previously unselected package libshine3:amd64.\n",
            "Preparing to unpack .../037-libshine3_3.1.1-1_amd64.deb ...\n",
            "Unpacking libshine3:amd64 (3.1.1-1) ...\n",
            "Selecting previously unselected package libsnappy1v5:amd64.\n",
            "Preparing to unpack .../038-libsnappy1v5_1.1.7-1_amd64.deb ...\n",
            "Unpacking libsnappy1v5:amd64 (1.1.7-1) ...\n",
            "Selecting previously unselected package libspeex1:amd64.\n",
            "Preparing to unpack .../039-libspeex1_1.2~rc1.2-1ubuntu2_amd64.deb ...\n",
            "Unpacking libspeex1:amd64 (1.2~rc1.2-1ubuntu2) ...\n",
            "Selecting previously unselected package libsoxr0:amd64.\n",
            "Preparing to unpack .../040-libsoxr0_0.1.2-3_amd64.deb ...\n",
            "Unpacking libsoxr0:amd64 (0.1.2-3) ...\n",
            "Selecting previously unselected package libswresample2:amd64.\n",
            "Preparing to unpack .../041-libswresample2_7%3a3.4.4-0ubuntu0.18.04.1_amd64.deb ...\n",
            "Unpacking libswresample2:amd64 (7:3.4.4-0ubuntu0.18.04.1) ...\n",
            "Selecting previously unselected package libtheora0:amd64.\n",
            "Preparing to unpack .../042-libtheora0_1.1.1+dfsg.1-14_amd64.deb ...\n",
            "Unpacking libtheora0:amd64 (1.1.1+dfsg.1-14) ...\n",
            "Selecting previously unselected package libtwolame0:amd64.\n",
            "Preparing to unpack .../043-libtwolame0_0.3.13-3_amd64.deb ...\n",
            "Unpacking libtwolame0:amd64 (0.3.13-3) ...\n",
            "Selecting previously unselected package libvorbis0a:amd64.\n",
            "Preparing to unpack .../044-libvorbis0a_1.3.5-4.2_amd64.deb ...\n",
            "Unpacking libvorbis0a:amd64 (1.3.5-4.2) ...\n",
            "Selecting previously unselected package libvorbisenc2:amd64.\n",
            "Preparing to unpack .../045-libvorbisenc2_1.3.5-4.2_amd64.deb ...\n",
            "Unpacking libvorbisenc2:amd64 (1.3.5-4.2) ...\n",
            "Selecting previously unselected package libvpx5:amd64.\n",
            "Preparing to unpack .../046-libvpx5_1.7.0-3_amd64.deb ...\n",
            "Unpacking libvpx5:amd64 (1.7.0-3) ...\n",
            "Selecting previously unselected package libwavpack1:amd64.\n",
            "Preparing to unpack .../047-libwavpack1_5.1.0-2ubuntu1.1_amd64.deb ...\n",
            "Unpacking libwavpack1:amd64 (5.1.0-2ubuntu1.1) ...\n",
            "Selecting previously unselected package libwebp6:amd64.\n",
            "Preparing to unpack .../048-libwebp6_0.6.1-2_amd64.deb ...\n",
            "Unpacking libwebp6:amd64 (0.6.1-2) ...\n",
            "Selecting previously unselected package libwebpmux3:amd64.\n",
            "Preparing to unpack .../049-libwebpmux3_0.6.1-2_amd64.deb ...\n",
            "Unpacking libwebpmux3:amd64 (0.6.1-2) ...\n",
            "Selecting previously unselected package libx264-152:amd64.\n",
            "Preparing to unpack .../050-libx264-152_2%3a0.152.2854+gite9a5903-2_amd64.deb ...\n",
            "Unpacking libx264-152:amd64 (2:0.152.2854+gite9a5903-2) ...\n",
            "Selecting previously unselected package libx265-146:amd64.\n",
            "Preparing to unpack .../051-libx265-146_2.6-3_amd64.deb ...\n",
            "Unpacking libx265-146:amd64 (2.6-3) ...\n",
            "Selecting previously unselected package libxvidcore4:amd64.\n",
            "Preparing to unpack .../052-libxvidcore4_2%3a1.3.5-1_amd64.deb ...\n",
            "Unpacking libxvidcore4:amd64 (2:1.3.5-1) ...\n",
            "Selecting previously unselected package libzvbi-common.\n",
            "Preparing to unpack .../053-libzvbi-common_0.2.35-13_all.deb ...\n",
            "Unpacking libzvbi-common (0.2.35-13) ...\n",
            "Selecting previously unselected package libzvbi0:amd64.\n",
            "Preparing to unpack .../054-libzvbi0_0.2.35-13_amd64.deb ...\n",
            "Unpacking libzvbi0:amd64 (0.2.35-13) ...\n",
            "Selecting previously unselected package libavcodec57:amd64.\n",
            "Preparing to unpack .../055-libavcodec57_7%3a3.4.4-0ubuntu0.18.04.1_amd64.deb ...\n",
            "Unpacking libavcodec57:amd64 (7:3.4.4-0ubuntu0.18.04.1) ...\n",
            "Selecting previously unselected package libasound2-data.\n",
            "Preparing to unpack .../056-libasound2-data_1.1.3-5ubuntu0.1_all.deb ...\n",
            "Unpacking libasound2-data (1.1.3-5ubuntu0.1) ...\n",
            "Selecting previously unselected package libasound2:amd64.\n",
            "Preparing to unpack .../057-libasound2_1.1.3-5ubuntu0.1_amd64.deb ...\n",
            "Unpacking libasound2:amd64 (1.1.3-5ubuntu0.1) ...\n",
            "Selecting previously unselected package libraw1394-11:amd64.\n",
            "Preparing to unpack .../058-libraw1394-11_2.1.2-1_amd64.deb ...\n",
            "Unpacking libraw1394-11:amd64 (2.1.2-1) ...\n",
            "Selecting previously unselected package libavc1394-0:amd64.\n",
            "Preparing to unpack .../059-libavc1394-0_0.5.4-4build1_amd64.deb ...\n",
            "Unpacking libavc1394-0:amd64 (0.5.4-4build1) ...\n",
            "Selecting previously unselected package libass9:amd64.\n",
            "Preparing to unpack .../060-libass9_1%3a0.14.0-1_amd64.deb ...\n",
            "Unpacking libass9:amd64 (1:0.14.0-1) ...\n",
            "Selecting previously unselected package libbluray2:amd64.\n",
            "Preparing to unpack .../061-libbluray2_1%3a1.0.2-3_amd64.deb ...\n",
            "Unpacking libbluray2:amd64 (1:1.0.2-3) ...\n",
            "Selecting previously unselected package libchromaprint1:amd64.\n",
            "Preparing to unpack .../062-libchromaprint1_1.4.3-1_amd64.deb ...\n",
            "Unpacking libchromaprint1:amd64 (1.4.3-1) ...\n",
            "Selecting previously unselected package libgme0:amd64.\n",
            "Preparing to unpack .../063-libgme0_0.6.2-1_amd64.deb ...\n",
            "Unpacking libgme0:amd64 (0.6.2-1) ...\n",
            "Selecting previously unselected package libmpg123-0:amd64.\n",
            "Preparing to unpack .../064-libmpg123-0_1.25.10-1_amd64.deb ...\n",
            "Unpacking libmpg123-0:amd64 (1.25.10-1) ...\n",
            "Selecting previously unselected package libvorbisfile3:amd64.\n",
            "Preparing to unpack .../065-libvorbisfile3_1.3.5-4.2_amd64.deb ...\n",
            "Unpacking libvorbisfile3:amd64 (1.3.5-4.2) ...\n",
            "Selecting previously unselected package libopenmpt0:amd64.\n",
            "Preparing to unpack .../066-libopenmpt0_0.3.6-1_amd64.deb ...\n",
            "Unpacking libopenmpt0:amd64 (0.3.6-1) ...\n",
            "Selecting previously unselected package libssh-gcrypt-4:amd64.\n",
            "Preparing to unpack .../067-libssh-gcrypt-4_0.8.0~20170825.94fa1e38-1ubuntu0.1_amd64.deb ...\n",
            "Unpacking libssh-gcrypt-4:amd64 (0.8.0~20170825.94fa1e38-1ubuntu0.1) ...\n",
            "Selecting previously unselected package libavformat57:amd64.\n",
            "Preparing to unpack .../068-libavformat57_7%3a3.4.4-0ubuntu0.18.04.1_amd64.deb ...\n",
            "Unpacking libavformat57:amd64 (7:3.4.4-0ubuntu0.18.04.1) ...\n",
            "Selecting previously unselected package libavresample3:amd64.\n",
            "Preparing to unpack .../069-libavresample3_7%3a3.4.4-0ubuntu0.18.04.1_amd64.deb ...\n",
            "Unpacking libavresample3:amd64 (7:3.4.4-0ubuntu0.18.04.1) ...\n",
            "Selecting previously unselected package libbs2b0:amd64.\n",
            "Preparing to unpack .../070-libbs2b0_3.1.0+dfsg-2.2_amd64.deb ...\n",
            "Unpacking libbs2b0:amd64 (3.1.0+dfsg-2.2) ...\n",
            "Selecting previously unselected package libflite1:amd64.\n",
            "Preparing to unpack .../071-libflite1_2.1-release-1_amd64.deb ...\n",
            "Unpacking libflite1:amd64 (2.1-release-1) ...\n",
            "Selecting previously unselected package libmysofa0:amd64.\n",
            "Preparing to unpack .../072-libmysofa0_0.6~dfsg0-2_amd64.deb ...\n",
            "Unpacking libmysofa0:amd64 (0.6~dfsg0-2) ...\n",
            "Selecting previously unselected package libpostproc54:amd64.\n",
            "Preparing to unpack .../073-libpostproc54_7%3a3.4.4-0ubuntu0.18.04.1_amd64.deb ...\n",
            "Unpacking libpostproc54:amd64 (7:3.4.4-0ubuntu0.18.04.1) ...\n",
            "Selecting previously unselected package libfftw3-double3:amd64.\n",
            "Preparing to unpack .../074-libfftw3-double3_3.3.7-1_amd64.deb ...\n",
            "Unpacking libfftw3-double3:amd64 (3.3.7-1) ...\n",
            "Selecting previously unselected package libsamplerate0:amd64.\n",
            "Preparing to unpack .../075-libsamplerate0_0.1.9-1_amd64.deb ...\n",
            "Unpacking libsamplerate0:amd64 (0.1.9-1) ...\n",
            "Selecting previously unselected package librubberband2:amd64.\n",
            "Preparing to unpack .../076-librubberband2_1.8.1-7ubuntu2_amd64.deb ...\n",
            "Unpacking librubberband2:amd64 (1.8.1-7ubuntu2) ...\n",
            "Selecting previously unselected package libswscale4:amd64.\n",
            "Preparing to unpack .../077-libswscale4_7%3a3.4.4-0ubuntu0.18.04.1_amd64.deb ...\n",
            "Unpacking libswscale4:amd64 (7:3.4.4-0ubuntu0.18.04.1) ...\n",
            "Selecting previously unselected package libavfilter6:amd64.\n",
            "Preparing to unpack .../078-libavfilter6_7%3a3.4.4-0ubuntu0.18.04.1_amd64.deb ...\n",
            "Unpacking libavfilter6:amd64 (7:3.4.4-0ubuntu0.18.04.1) ...\n",
            "Selecting previously unselected package libcaca0:amd64.\n",
            "Preparing to unpack .../079-libcaca0_0.99.beta19-2build2~gcc5.3_amd64.deb ...\n",
            "Unpacking libcaca0:amd64 (0.99.beta19-2build2~gcc5.3) ...\n",
            "Selecting previously unselected package libcdio17:amd64.\n",
            "Preparing to unpack .../080-libcdio17_1.0.0-2ubuntu2_amd64.deb ...\n",
            "Unpacking libcdio17:amd64 (1.0.0-2ubuntu2) ...\n",
            "Selecting previously unselected package libcdio-cdda2:amd64.\n",
            "Preparing to unpack .../081-libcdio-cdda2_10.2+0.94+2-2build1_amd64.deb ...\n",
            "Unpacking libcdio-cdda2:amd64 (10.2+0.94+2-2build1) ...\n",
            "Selecting previously unselected package libcdio-paranoia2:amd64.\n",
            "Preparing to unpack .../082-libcdio-paranoia2_10.2+0.94+2-2build1_amd64.deb ...\n",
            "Unpacking libcdio-paranoia2:amd64 (10.2+0.94+2-2build1) ...\n",
            "Selecting previously unselected package libdc1394-22:amd64.\n",
            "Preparing to unpack .../083-libdc1394-22_2.2.5-1_amd64.deb ...\n",
            "Unpacking libdc1394-22:amd64 (2.2.5-1) ...\n",
            "Selecting previously unselected package libxcb-glx0:amd64.\n",
            "Preparing to unpack .../084-libxcb-glx0_1.13-1_amd64.deb ...\n",
            "Unpacking libxcb-glx0:amd64 (1.13-1) ...\n",
            "Selecting previously unselected package libxdamage1:amd64.\n",
            "Preparing to unpack .../085-libxdamage1_1%3a1.1.4-3_amd64.deb ...\n",
            "Unpacking libxdamage1:amd64 (1:1.1.4-3) ...\n",
            "Selecting previously unselected package libdrm-amdgpu1:amd64.\n",
            "Preparing to unpack .../086-libdrm-amdgpu1_2.4.91-2_amd64.deb ...\n",
            "Unpacking libdrm-amdgpu1:amd64 (2.4.91-2) ...\n",
            "Selecting previously unselected package libpciaccess0:amd64.\n",
            "Preparing to unpack .../087-libpciaccess0_0.14-1_amd64.deb ...\n",
            "Unpacking libpciaccess0:amd64 (0.14-1) ...\n",
            "Selecting previously unselected package libdrm-intel1:amd64.\n",
            "Preparing to unpack .../088-libdrm-intel1_2.4.91-2_amd64.deb ...\n",
            "Unpacking libdrm-intel1:amd64 (2.4.91-2) ...\n",
            "Selecting previously unselected package libdrm-nouveau2:amd64.\n",
            "Preparing to unpack .../089-libdrm-nouveau2_2.4.91-2_amd64.deb ...\n",
            "Unpacking libdrm-nouveau2:amd64 (2.4.91-2) ...\n",
            "Selecting previously unselected package libdrm-radeon1:amd64.\n",
            "Preparing to unpack .../090-libdrm-radeon1_2.4.91-2_amd64.deb ...\n",
            "Unpacking libdrm-radeon1:amd64 (2.4.91-2) ...\n",
            "Selecting previously unselected package libllvm6.0:amd64.\n",
            "Preparing to unpack .../091-libllvm6.0_1%3a6.0-1ubuntu2_amd64.deb ...\n",
            "Unpacking libllvm6.0:amd64 (1:6.0-1ubuntu2) ...\n",
            "Selecting previously unselected package libsensors4:amd64.\n",
            "Preparing to unpack .../092-libsensors4_1%3a3.4.0-4_amd64.deb ...\n",
            "Unpacking libsensors4:amd64 (1:3.4.0-4) ...\n",
            "Selecting previously unselected package libgl1-mesa-dri:amd64.\n",
            "Preparing to unpack .../093-libgl1-mesa-dri_18.0.5-0ubuntu0~18.04.1_amd64.deb ...\n",
            "Unpacking libgl1-mesa-dri:amd64 (18.0.5-0ubuntu0~18.04.1) ...\n",
            "Selecting previously unselected package libglx-mesa0:amd64.\n",
            "Preparing to unpack .../094-libglx-mesa0_18.0.5-0ubuntu0~18.04.1_amd64.deb ...\n",
            "Unpacking libglx-mesa0:amd64 (18.0.5-0ubuntu0~18.04.1) ...\n",
            "Selecting previously unselected package libglx0:amd64.\n",
            "Preparing to unpack .../095-libglx0_1.0.0-2ubuntu2.2_amd64.deb ...\n",
            "Unpacking libglx0:amd64 (1.0.0-2ubuntu2.2) ...\n",
            "Selecting previously unselected package libgl1:amd64.\n",
            "Preparing to unpack .../096-libgl1_1.0.0-2ubuntu2.2_amd64.deb ...\n",
            "Unpacking libgl1:amd64 (1.0.0-2ubuntu2.2) ...\n",
            "Selecting previously unselected package libiec61883-0:amd64.\n",
            "Preparing to unpack .../097-libiec61883-0_1.2.0-2_amd64.deb ...\n",
            "Unpacking libiec61883-0:amd64 (1.2.0-2) ...\n",
            "Selecting previously unselected package libjack-jackd2-0:amd64.\n",
            "Preparing to unpack .../098-libjack-jackd2-0_1.9.12~dfsg-2_amd64.deb ...\n",
            "Unpacking libjack-jackd2-0:amd64 (1.9.12~dfsg-2) ...\n",
            "Selecting previously unselected package libopenal-data.\n",
            "Preparing to unpack .../099-libopenal-data_1%3a1.18.2-2_all.deb ...\n",
            "Unpacking libopenal-data (1:1.18.2-2) ...\n",
            "Selecting previously unselected package libsndio6.1:amd64.\n",
            "Preparing to unpack .../100-libsndio6.1_1.1.0-3_amd64.deb ...\n",
            "Unpacking libsndio6.1:amd64 (1.1.0-3) ...\n",
            "Selecting previously unselected package libopenal1:amd64.\n",
            "Preparing to unpack .../101-libopenal1_1%3a1.18.2-2_amd64.deb ...\n",
            "Unpacking libopenal1:amd64 (1:1.18.2-2) ...\n",
            "Selecting previously unselected package libasyncns0:amd64.\n",
            "Preparing to unpack .../102-libasyncns0_0.8-6_amd64.deb ...\n",
            "Unpacking libasyncns0:amd64 (0.8-6) ...\n",
            "Selecting previously unselected package libflac8:amd64.\n",
            "Preparing to unpack .../103-libflac8_1.3.2-1_amd64.deb ...\n",
            "Unpacking libflac8:amd64 (1.3.2-1) ...\n",
            "Selecting previously unselected package libsndfile1:amd64.\n",
            "Preparing to unpack .../104-libsndfile1_1.0.28-4_amd64.deb ...\n",
            "Unpacking libsndfile1:amd64 (1.0.28-4) ...\n",
            "Selecting previously unselected package libwrap0:amd64.\n",
            "Preparing to unpack .../105-libwrap0_7.6.q-27_amd64.deb ...\n",
            "Unpacking libwrap0:amd64 (7.6.q-27) ...\n",
            "Selecting previously unselected package libpulse0:amd64.\n",
            "Preparing to unpack .../106-libpulse0_1%3a11.1-1ubuntu7.1_amd64.deb ...\n",
            "Unpacking libpulse0:amd64 (1:11.1-1ubuntu7.1) ...\n",
            "Selecting previously unselected package libwayland-cursor0:amd64.\n",
            "Preparing to unpack .../107-libwayland-cursor0_1.14.0-2_amd64.deb ...\n",
            "Unpacking libwayland-cursor0:amd64 (1.14.0-2) ...\n",
            "Selecting previously unselected package libwayland-egl1-mesa:amd64.\n",
            "Preparing to unpack .../108-libwayland-egl1-mesa_18.0.5-0ubuntu0~18.04.1_amd64.deb ...\n",
            "Unpacking libwayland-egl1-mesa:amd64 (18.0.5-0ubuntu0~18.04.1) ...\n",
            "Selecting previously unselected package libxcursor1:amd64.\n",
            "Preparing to unpack .../109-libxcursor1_1%3a1.1.15-1_amd64.deb ...\n",
            "Unpacking libxcursor1:amd64 (1:1.1.15-1) ...\n",
            "Selecting previously unselected package libxi6:amd64.\n",
            "Preparing to unpack .../110-libxi6_2%3a1.7.9-1_amd64.deb ...\n",
            "Unpacking libxi6:amd64 (2:1.7.9-1) ...\n",
            "Selecting previously unselected package libxkbcommon0:amd64.\n",
            "Preparing to unpack .../111-libxkbcommon0_0.8.0-1_amd64.deb ...\n",
            "Unpacking libxkbcommon0:amd64 (0.8.0-1) ...\n",
            "Selecting previously unselected package libxrandr2:amd64.\n",
            "Preparing to unpack .../112-libxrandr2_2%3a1.5.1-1_amd64.deb ...\n",
            "Unpacking libxrandr2:amd64 (2:1.5.1-1) ...\n",
            "Selecting previously unselected package libsdl2-2.0-0:amd64.\n",
            "Preparing to unpack .../113-libsdl2-2.0-0_2.0.8+dfsg1-1ubuntu1.18.04.1_amd64.deb ...\n",
            "Unpacking libsdl2-2.0-0:amd64 (2.0.8+dfsg1-1ubuntu1.18.04.1) ...\n",
            "Selecting previously unselected package libxcb-shape0:amd64.\n",
            "Preparing to unpack .../114-libxcb-shape0_1.13-1_amd64.deb ...\n",
            "Unpacking libxcb-shape0:amd64 (1.13-1) ...\n",
            "Selecting previously unselected package libxv1:amd64.\n",
            "Preparing to unpack .../115-libxv1_2%3a1.0.11-1_amd64.deb ...\n",
            "Unpacking libxv1:amd64 (2:1.0.11-1) ...\n",
            "Selecting previously unselected package libavdevice57:amd64.\n",
            "Preparing to unpack .../116-libavdevice57_7%3a3.4.4-0ubuntu0.18.04.1_amd64.deb ...\n",
            "Unpacking libavdevice57:amd64 (7:3.4.4-0ubuntu0.18.04.1) ...\n",
            "Selecting previously unselected package ffmpeg.\n",
            "Preparing to unpack .../117-ffmpeg_7%3a3.4.4-0ubuntu0.18.04.1_amd64.deb ...\n",
            "Unpacking ffmpeg (7:3.4.4-0ubuntu0.18.04.1) ...\n",
            "Selecting previously unselected package libaacs0:amd64.\n",
            "Preparing to unpack .../118-libaacs0_0.9.0-1_amd64.deb ...\n",
            "Unpacking libaacs0:amd64 (0.9.0-1) ...\n",
            "Selecting previously unselected package libbdplus0:amd64.\n",
            "Preparing to unpack .../119-libbdplus0_0.1.2-2_amd64.deb ...\n",
            "Unpacking libbdplus0:amd64 (0.1.2-2) ...\n",
            "Selecting previously unselected package libgdk-pixbuf2.0-bin.\n",
            "Preparing to unpack .../120-libgdk-pixbuf2.0-bin_2.36.11-2_amd64.deb ...\n",
            "Unpacking libgdk-pixbuf2.0-bin (2.36.11-2) ...\n",
            "Selecting previously unselected package librsvg2-common:amd64.\n",
            "Preparing to unpack .../121-librsvg2-common_2.40.20-2_amd64.deb ...\n",
            "Unpacking librsvg2-common:amd64 (2.40.20-2) ...\n",
            "Selecting previously unselected package mesa-va-drivers:amd64.\n",
            "Preparing to unpack .../122-mesa-va-drivers_18.0.5-0ubuntu0~18.04.1_amd64.deb ...\n",
            "Unpacking mesa-va-drivers:amd64 (18.0.5-0ubuntu0~18.04.1) ...\n",
            "Selecting previously unselected package mesa-vdpau-drivers:amd64.\n",
            "Preparing to unpack .../123-mesa-vdpau-drivers_18.0.5-0ubuntu0~18.04.1_amd64.deb ...\n",
            "Unpacking mesa-vdpau-drivers:amd64 (18.0.5-0ubuntu0~18.04.1) ...\n",
            "Selecting previously unselected package i965-va-driver:amd64.\n",
            "Preparing to unpack .../124-i965-va-driver_2.1.0-0ubuntu1_amd64.deb ...\n",
            "Unpacking i965-va-driver:amd64 (2.1.0-0ubuntu1) ...\n",
            "Selecting previously unselected package va-driver-all:amd64.\n",
            "Preparing to unpack .../125-va-driver-all_2.1.0-3_amd64.deb ...\n",
            "Unpacking va-driver-all:amd64 (2.1.0-3) ...\n",
            "Selecting previously unselected package vdpau-driver-all:amd64.\n",
            "Preparing to unpack .../126-vdpau-driver-all_1.1.1-3ubuntu1_amd64.deb ...\n",
            "Unpacking vdpau-driver-all:amd64 (1.1.1-3ubuntu1) ...\n",
            "Setting up libxi6:amd64 (2:1.7.9-1) ...\n",
            "Setting up libxinerama1:amd64 (2:1.1.3-1) ...\n",
            "Setting up libxcb-glx0:amd64 (1.13-1) ...\n",
            "Setting up libtwolame0:amd64 (0.3.13-3) ...\n",
            "Setting up libraw1394-11:amd64 (2.1.2-1) ...\n",
            "Setting up libx264-152:amd64 (2:0.152.2854+gite9a5903-2) ...\n",
            "Setting up libxcb-render0:amd64 (1.13-1) ...\n",
            "Setting up libopenjp2-7:amd64 (2.3.0-1) ...\n",
            "Setting up libasyncns0:amd64 (0.8-6) ...\n",
            "Setting up libxdamage1:amd64 (1:1.1.4-3) ...\n",
            "Setting up libxfixes3:amd64 (1:5.0.3-1) ...\n",
            "Setting up libdrm-amdgpu1:amd64 (2.4.91-2) ...\n",
            "Setting up libllvm6.0:amd64 (1:6.0-1ubuntu2) ...\n",
            "Setting up libwavpack1:amd64 (5.1.0-2ubuntu1.1) ...\n",
            "Setting up libjbig0:amd64 (2.1-3.1build1) ...\n",
            "Setting up libaacs0:amd64 (0.9.0-1) ...\n",
            "Setting up libnuma1:amd64 (2.0.11-2.1) ...\n",
            "Setting up libsoxr0:amd64 (0.1.2-3) ...\n",
            "Setting up libssh-gcrypt-4:amd64 (0.8.0~20170825.94fa1e38-1ubuntu0.1) ...\n",
            "Setting up libasound2-data (1.1.3-5ubuntu0.1) ...\n",
            "Setting up xkb-data (2.23.1-1ubuntu1) ...\n",
            "Setting up libbluray2:amd64 (1:1.0.2-3) ...\n",
            "Setting up libvdpau1:amd64 (1.1.1-3ubuntu1) ...\n",
            "Setting up libgdk-pixbuf2.0-common (2.36.11-2) ...\n",
            "Setting up libdatrie1:amd64 (0.2.10-7) ...\n",
            "Setting up libtiff5:amd64 (4.0.9-5) ...\n",
            "Setting up libshine3:amd64 (3.1.1-1) ...\n",
            "Setting up libva2:amd64 (2.1.0-3) ...\n",
            "Setting up libiec61883-0:amd64 (1.2.0-2) ...\n",
            "Setting up libspeex1:amd64 (1.2~rc1.2-1ubuntu2) ...\n",
            "Setting up libfftw3-double3:amd64 (3.3.7-1) ...\n",
            "Setting up libxvidcore4:amd64 (2:1.3.5-1) ...\n",
            "Setting up libopus0:amd64 (1.1.2-1ubuntu1) ...\n",
            "Setting up libx265-146:amd64 (2.6-3) ...\n",
            "Setting up libasound2:amd64 (1.1.3-5ubuntu0.1) ...\n",
            "Setting up libopenal-data (1:1.18.2-2) ...\n",
            "Setting up libbs2b0:amd64 (3.1.0+dfsg-2.2) ...\n",
            "Setting up libcroco3:amd64 (0.6.12-2) ...\n",
            "Setting up libogg0:amd64 (1.3.2-1) ...\n",
            "Setting up libpixman-1-0:amd64 (0.34.0-2) ...\n",
            "Setting up libmp3lame0:amd64 (3.100-2) ...\n",
            "Setting up libxcursor1:amd64 (1:1.1.15-1) ...\n",
            "Setting up libusb-1.0-0:amd64 (2:1.0.21-2) ...\n",
            "Setting up libcrystalhd3:amd64 (1:0.0~git20110715.fdd2f19-12) ...\n",
            "Processing triggers for libc-bin (2.27-3ubuntu1) ...\n",
            "Setting up libsnappy1v5:amd64 (1.1.7-1) ...\n",
            "Setting up libwayland-egl1-mesa:amd64 (18.0.5-0ubuntu0~18.04.1) ...\n",
            "Setting up libva-drm2:amd64 (2.1.0-3) ...\n",
            "Setting up libavc1394-0:amd64 (0.5.4-4build1) ...\n",
            "Setting up libzvbi-common (0.2.35-13) ...\n",
            "Setting up libfribidi0:amd64 (0.19.7-2) ...\n",
            "Setting up libxcb-shm0:amd64 (1.13-1) ...\n",
            "Setting up libxcb-shape0:amd64 (1.13-1) ...\n",
            "Setting up libpciaccess0:amd64 (0.14-1) ...\n",
            "Setting up libxv1:amd64 (2:1.0.11-1) ...\n",
            "Setting up libsensors4:amd64 (1:3.4.0-4) ...\n",
            "Setting up shared-mime-info (1.9-2) ...\n",
            "Setting up libxkbcommon0:amd64 (0.8.0-1) ...\n",
            "Setting up libvpx5:amd64 (1.7.0-3) ...\n",
            "Setting up libdrm-radeon1:amd64 (2.4.91-2) ...\n",
            "Setting up libgme0:amd64 (0.6.2-1) ...\n",
            "Setting up libthai-data (0.1.27-2) ...\n",
            "Setting up libbdplus0:amd64 (0.1.2-2) ...\n",
            "Setting up libxxf86vm1:amd64 (1:1.1.4-1) ...\n",
            "Setting up libzvbi0:amd64 (0.2.35-13) ...\n",
            "Setting up libva-x11-2:amd64 (2.1.0-3) ...\n",
            "Setting up libdrm-nouveau2:amd64 (2.4.91-2) ...\n",
            "Setting up libsamplerate0:amd64 (0.1.9-1) ...\n",
            "Setting up libsndio6.1:amd64 (1.1.0-3) ...\n",
            "Setting up libvorbis0a:amd64 (1.3.5-4.2) ...\n",
            "Setting up libmpg123-0:amd64 (1.25.10-1) ...\n",
            "Setting up libslang2:amd64 (2.3.1a-3ubuntu1) ...\n",
            "Setting up libwayland-cursor0:amd64 (1.14.0-2) ...\n",
            "Setting up libgsm1:amd64 (1.0.13-4build1) ...\n",
            "Setting up libmysofa0:amd64 (0.6~dfsg0-2) ...\n",
            "Setting up libcdio17:amd64 (1.0.0-2ubuntu2) ...\n",
            "Setting up libxrandr2:amd64 (2:1.5.1-1) ...\n",
            "Setting up fontconfig (2.12.6-0ubuntu2) ...\n",
            "Regenerating fonts cache... done.\n",
            "Setting up libwrap0:amd64 (7.6.q-27) ...\n",
            "Setting up libwebp6:amd64 (0.6.1-2) ...\n",
            "Setting up libvorbisfile3:amd64 (1.3.5-4.2) ...\n",
            "Setting up libcairo2:amd64 (1.15.10-2) ...\n",
            "Setting up libavutil55:amd64 (7:3.4.4-0ubuntu0.18.04.1) ...\n",
            "Setting up libopenmpt0:amd64 (0.3.6-1) ...\n",
            "Setting up libflite1:amd64 (2.1-release-1) ...\n",
            "Setting up mesa-vdpau-drivers:amd64 (18.0.5-0ubuntu0~18.04.1) ...\n",
            "Setting up libgdk-pixbuf2.0-0:amd64 (2.36.11-2) ...\n",
            "Setting up libass9:amd64 (1:0.14.0-1) ...\n",
            "Setting up libflac8:amd64 (1.3.2-1) ...\n",
            "Setting up libgdk-pixbuf2.0-bin (2.36.11-2) ...\n",
            "Setting up libdc1394-22:amd64 (2.2.5-1) ...\n",
            "Setting up libcdio-cdda2:amd64 (10.2+0.94+2-2build1) ...\n",
            "Setting up libthai0:amd64 (0.1.27-2) ...\n",
            "Setting up libswresample2:amd64 (7:3.4.4-0ubuntu0.18.04.1) ...\n",
            "Setting up libdrm-intel1:amd64 (2.4.91-2) ...\n",
            "Setting up librubberband2:amd64 (1.8.1-7ubuntu2) ...\n",
            "Setting up libswscale4:amd64 (7:3.4.4-0ubuntu0.18.04.1) ...\n",
            "Setting up libwebpmux3:amd64 (0.6.1-2) ...\n",
            "Setting up mesa-va-drivers:amd64 (18.0.5-0ubuntu0~18.04.1) ...\n",
            "Setting up libpango-1.0-0:amd64 (1.40.14-1ubuntu0.1) ...\n",
            "Setting up libcdio-paranoia2:amd64 (10.2+0.94+2-2build1) ...\n",
            "Setting up libpostproc54:amd64 (7:3.4.4-0ubuntu0.18.04.1) ...\n",
            "Setting up libjack-jackd2-0:amd64 (1.9.12~dfsg-2) ...\n",
            "Setting up libopenal1:amd64 (1:1.18.2-2) ...\n",
            "Setting up libvorbisenc2:amd64 (1.3.5-4.2) ...\n",
            "Setting up libcaca0:amd64 (0.99.beta19-2build2~gcc5.3) ...\n",
            "Setting up libtheora0:amd64 (1.1.1+dfsg.1-14) ...\n",
            "Setting up vdpau-driver-all:amd64 (1.1.1-3ubuntu1) ...\n",
            "Setting up libavresample3:amd64 (7:3.4.4-0ubuntu0.18.04.1) ...\n",
            "Setting up libgl1-mesa-dri:amd64 (18.0.5-0ubuntu0~18.04.1) ...\n",
            "Setting up libpangoft2-1.0-0:amd64 (1.40.14-1ubuntu0.1) ...\n",
            "Setting up libsndfile1:amd64 (1.0.28-4) ...\n",
            "Setting up i965-va-driver:amd64 (2.1.0-0ubuntu1) ...\n",
            "Setting up va-driver-all:amd64 (2.1.0-3) ...\n",
            "Setting up libglx-mesa0:amd64 (18.0.5-0ubuntu0~18.04.1) ...\n",
            "Setting up libpangocairo-1.0-0:amd64 (1.40.14-1ubuntu0.1) ...\n",
            "Setting up libpulse0:amd64 (1:11.1-1ubuntu7.1) ...\n",
            "Setting up libsdl2-2.0-0:amd64 (2.0.8+dfsg1-1ubuntu1.18.04.1) ...\n",
            "Setting up libglx0:amd64 (1.0.0-2ubuntu2.2) ...\n",
            "Setting up librsvg2-2:amd64 (2.40.20-2) ...\n",
            "Setting up libavcodec57:amd64 (7:3.4.4-0ubuntu0.18.04.1) ...\n",
            "Setting up librsvg2-common:amd64 (2.40.20-2) ...\n",
            "Setting up libgl1:amd64 (1.0.0-2ubuntu2.2) ...\n",
            "Setting up libchromaprint1:amd64 (1.4.3-1) ...\n",
            "Setting up libavformat57:amd64 (7:3.4.4-0ubuntu0.18.04.1) ...\n",
            "Setting up libavfilter6:amd64 (7:3.4.4-0ubuntu0.18.04.1) ...\n",
            "Setting up libavdevice57:amd64 (7:3.4.4-0ubuntu0.18.04.1) ...\n",
            "Setting up ffmpeg (7:3.4.4-0ubuntu0.18.04.1) ...\n",
            "Processing triggers for libc-bin (2.27-3ubuntu1) ...\n",
            "Processing triggers for libgdk-pixbuf2.0-0:amd64 (2.36.11-2) ...\n"
          ],
          "name": "stdout"
        }
      ]
    },
    {
      "metadata": {
        "id": "ARdees2Yz0Zu",
        "colab_type": "code",
        "outputId": "2f53aa7b-5b64-4c97-e92b-bc14a7ca2e31",
        "colab": {
          "base_uri": "https://localhost:8080/",
          "height": 255
        }
      },
      "cell_type": "code",
      "source": [
        "!ffmpeg -version"
      ],
      "execution_count": 6,
      "outputs": [
        {
          "output_type": "stream",
          "text": [
            "ffmpeg version 3.4.4-0ubuntu0.18.04.1 Copyright (c) 2000-2018 the FFmpeg developers\n",
            "built with gcc 7 (Ubuntu 7.3.0-16ubuntu3)\n",
            "configuration: --prefix=/usr --extra-version=0ubuntu0.18.04.1 --toolchain=hardened --libdir=/usr/lib/x86_64-linux-gnu --incdir=/usr/include/x86_64-linux-gnu --enable-gpl --disable-stripping --enable-avresample --enable-avisynth --enable-gnutls --enable-ladspa --enable-libass --enable-libbluray --enable-libbs2b --enable-libcaca --enable-libcdio --enable-libflite --enable-libfontconfig --enable-libfreetype --enable-libfribidi --enable-libgme --enable-libgsm --enable-libmp3lame --enable-libmysofa --enable-libopenjpeg --enable-libopenmpt --enable-libopus --enable-libpulse --enable-librubberband --enable-librsvg --enable-libshine --enable-libsnappy --enable-libsoxr --enable-libspeex --enable-libssh --enable-libtheora --enable-libtwolame --enable-libvorbis --enable-libvpx --enable-libwavpack --enable-libwebp --enable-libx265 --enable-libxml2 --enable-libxvid --enable-libzmq --enable-libzvbi --enable-omx --enable-openal --enable-opengl --enable-sdl2 --enable-libdc1394 --enable-libdrm --enable-libiec61883 --enable-chromaprint --enable-frei0r --enable-libopencv --enable-libx264 --enable-shared\n",
            "libavutil      55. 78.100 / 55. 78.100\n",
            "libavcodec     57.107.100 / 57.107.100\n",
            "libavformat    57. 83.100 / 57. 83.100\n",
            "libavdevice    57. 10.100 / 57. 10.100\n",
            "libavfilter     6.107.100 /  6.107.100\n",
            "libavresample   3.  7.  0 /  3.  7.  0\n",
            "libswscale      4.  8.100 /  4.  8.100\n",
            "libswresample   2.  9.100 /  2.  9.100\n",
            "libpostproc    54.  7.100 / 54.  7.100\n"
          ],
          "name": "stdout"
        }
      ]
    },
    {
      "metadata": {
        "id": "l_GTcVwzyIbB",
        "colab_type": "code",
        "colab": {}
      },
      "cell_type": "code",
      "source": [
        "!wget -q https://github.com/Tony607/blog_statics/releases/download/v1.0/siren_mfcc_demo.wav"
      ],
      "execution_count": 0,
      "outputs": []
    },
    {
      "metadata": {
        "id": "czVhVJMxW3UX",
        "colab_type": "text"
      },
      "cell_type": "markdown",
      "source": [
        "### Decode wav file"
      ]
    },
    {
      "metadata": {
        "id": "rnhREUjpy0S8",
        "colab_type": "code",
        "outputId": "d2526e08-bde2-45f6-ff89-825addd8df66",
        "colab": {
          "base_uri": "https://localhost:8080/",
          "height": 35
        }
      },
      "cell_type": "code",
      "source": [
        "## Check the sampling rate of the WAV file.\n",
        "audio_file = './siren_mfcc_demo.wav'\n",
        "\n",
        "\n",
        "import wave\n",
        "with wave.open(audio_file, \"rb\") as wave_file:\n",
        "    sr = wave_file.getframerate()\n",
        "print(sr)"
      ],
      "execution_count": 8,
      "outputs": [
        {
          "output_type": "stream",
          "text": [
            "44100\n"
          ],
          "name": "stdout"
        }
      ]
    },
    {
      "metadata": {
        "id": "k4J9A9gPw1Pw",
        "colab_type": "code",
        "outputId": "b61d6fc8-3d59-4ef4-ad38-c63800354af0",
        "colab": {
          "base_uri": "https://localhost:8080/",
          "height": 90
        }
      },
      "cell_type": "code",
      "source": [
        "audio_binary = tf.read_file(audio_file)\n",
        "# tf.contrib.ffmpeg not supported on Windows, refer to issue\n",
        "# https://github.com/tensorflow/tensorflow/issues/8271\n",
        "waveform = tf.contrib.ffmpeg.decode_audio(audio_binary, file_format='wav', samples_per_second=sr, channel_count=1)\n",
        "print(waveform.numpy().shape)"
      ],
      "execution_count": 10,
      "outputs": [
        {
          "output_type": "stream",
          "text": [
            "WARNING:tensorflow:From <ipython-input-10-eb0b99dc59a3>:4: decode_audio (from tensorflow.contrib.ffmpeg.ffmpeg_ops) is deprecated and will be removed after 2018-09-04.\n",
            "Instructions for updating:\n",
            "This will be deleted and should not be used.\n",
            "(59904, 1)\n"
          ],
          "name": "stdout"
        }
      ]
    },
    {
      "metadata": {
        "id": "8n4vLqCj3PGO",
        "colab_type": "code",
        "colab": {}
      },
      "cell_type": "code",
      "source": [
        "# An alternative way to decode audio file.\n",
        "# from scipy.io import wavfile\n",
        "# sr, samples = wavfile.read(audio_file)\n",
        "# samples = samples.reshape((1, -1))\n",
        "# print(sr)\n",
        "# print(samples.shape)"
      ],
      "execution_count": 0,
      "outputs": []
    },
    {
      "metadata": {
        "id": "L7DMB0NQYeBZ",
        "colab_type": "code",
        "colab": {}
      },
      "cell_type": "code",
      "source": [
        "# Another alternative way to decode audio file.\n",
        "\n",
        "# import librosa\n",
        "# sound_clip,sr = librosa.load(audio_file)\n",
        "# print(\"sampling rate:\", sr)\n",
        "\n",
        "# print(sound_clip.shape)\n",
        "# signals = sound_clip.reshape((1, -1))\n",
        "# print(\"signal shape: \", signals.shape)"
      ],
      "execution_count": 0,
      "outputs": []
    },
    {
      "metadata": {
        "id": "Fb_08a5W2Ko4",
        "colab_type": "code",
        "outputId": "0ba39fa4-b4e2-41eb-d0dd-cc3df8d7b1b8",
        "colab": {
          "base_uri": "https://localhost:8080/",
          "height": 35
        }
      },
      "cell_type": "code",
      "source": [
        "signals = tf.reshape(waveform, [1, -1])\n",
        "signals.get_shape()"
      ],
      "execution_count": 13,
      "outputs": [
        {
          "output_type": "execute_result",
          "data": {
            "text/plain": [
              "TensorShape([Dimension(1), Dimension(59904)])"
            ]
          },
          "metadata": {
            "tags": []
          },
          "execution_count": 13
        }
      ]
    },
    {
      "metadata": {
        "id": "y0p2E-CWw1OX",
        "colab_type": "text"
      },
      "cell_type": "markdown",
      "source": [
        "## Framing variable length sequences"
      ]
    },
    {
      "metadata": {
        "id": "gQBEu3j3w1OZ",
        "colab_type": "code",
        "outputId": "f16e3d61-bc9c-49e4-a526-487bb6781b5d",
        "colab": {
          "base_uri": "https://localhost:8080/",
          "height": 279
        }
      },
      "cell_type": "code",
      "source": [
        "import librosa.display\n",
        "\n",
        "librosa.display.waveplot(signals.numpy().flatten(),sr=sr)\n",
        "plt.show()"
      ],
      "execution_count": 14,
      "outputs": [
        {
          "output_type": "display_data",
          "data": {
            "image/png": "[encoded data removed]",
            "text/plain": [
              "<matplotlib.figure.Figure at 0x7fac62f590b8>"
            ]
          },
          "metadata": {
            "tags": []
          }
        }
      ]
    },
    {
      "metadata": {
        "id": "1JOPX5j87fY6",
        "colab_type": "code",
        "outputId": "b7a62001-bdea-4ad3-fdc4-38f68ead9430",
        "colab": {
          "base_uri": "https://localhost:8080/",
          "height": 284
        }
      },
      "cell_type": "code",
      "source": [
        "import matplotlib.pyplot as plt\n",
        "plt.plot(waveform.numpy().flatten()[1024*2:1024*5])"
      ],
      "execution_count": 15,
      "outputs": [
        {
          "output_type": "execute_result",
          "data": {
            "text/plain": [
              "[<matplotlib.lines.Line2D at 0x7fac473d2b00>]"
            ]
          },
          "metadata": {
            "tags": []
          },
          "execution_count": 15
        },
        {
          "output_type": "display_data",
          "data": {
            "image/png": "[encoded data removed]",
            "text/plain": [
              "<matplotlib.figure.Figure at 0x7fac6a233898>"
            ]
          },
          "metadata": {
            "tags": []
          }
        }
      ]
    },
    {
      "metadata": {
        "id": "QTa1BVSOw1Oe",
        "colab_type": "code",
        "outputId": "fab37d19-4e9f-4988-d84c-0f9e0c77d2b6",
        "colab": {
          "base_uri": "https://localhost:8080/",
          "height": 35
        }
      },
      "cell_type": "code",
      "source": [
        "# Compute a [batch_size, ?, 128] tensor of fixed length, overlapping windows\n",
        "# where each window overlaps the previous by 75% (frame_length - frame_step\n",
        "# samples of overlap).\n",
        "frames = tf.contrib.signal.frame(signals, frame_length=128, frame_step=32)\n",
        "print(frames.numpy().shape)"
      ],
      "execution_count": 16,
      "outputs": [
        {
          "output_type": "stream",
          "text": [
            "(1, 1869, 128)\n"
          ],
          "name": "stdout"
        }
      ]
    },
    {
      "metadata": {
        "id": "6kGPgV8Yw1Oi",
        "colab_type": "code",
        "outputId": "bf6b637e-ea04-4f5e-981e-da3f18e22d14",
        "colab": {
          "base_uri": "https://localhost:8080/",
          "height": 35
        }
      },
      "cell_type": "code",
      "source": [
        "# `magnitude_spectrograms` is a [batch_size, ?, 129] tensor of spectrograms. We\n",
        "# would like to produce overlapping fixed-size spectrogram patches; for example,\n",
        "# for use in a situation where a fixed size input is needed.\n",
        "magnitude_spectrograms = tf.abs(tf.contrib.signal.stft(\n",
        "    signals, frame_length=256, frame_step=64, fft_length=256))\n",
        "\n",
        "print(magnitude_spectrograms.numpy().shape)"
      ],
      "execution_count": 17,
      "outputs": [
        {
          "output_type": "stream",
          "text": [
            "(1, 933, 129)\n"
          ],
          "name": "stdout"
        }
      ]
    },
    {
      "metadata": {
        "id": "U7vhbU4mw1Om",
        "colab_type": "code",
        "outputId": "f47200ce-a2d0-4fed-96df-7b81f90ad757",
        "colab": {
          "base_uri": "https://localhost:8080/",
          "height": 35
        }
      },
      "cell_type": "code",
      "source": [
        "# `spectrogram_patches` is a [batch_size, ?, 64, 129] tensor containing a\n",
        "# variable number of [64, 129] spectrogram patches per batch item.\n",
        "spectrogram_patches = tf.contrib.signal.frame(\n",
        "    magnitude_spectrograms, frame_length=64, frame_step=16, axis=1)\n",
        "\n",
        "print(spectrogram_patches.numpy().shape)"
      ],
      "execution_count": 18,
      "outputs": [
        {
          "output_type": "stream",
          "text": [
            "(1, 55, 64, 129)\n"
          ],
          "name": "stdout"
        }
      ]
    },
    {
      "metadata": {
        "id": "athZLApgw1Oq",
        "colab_type": "text"
      },
      "cell_type": "markdown",
      "source": [
        "## Reconstructing framed sequences and applying a tapering window"
      ]
    },
    {
      "metadata": {
        "id": "UKnTsAu6w1Os",
        "colab_type": "code",
        "outputId": "954845e3-a62e-476d-f871-64f79ccc2239",
        "colab": {
          "base_uri": "https://localhost:8080/",
          "height": 35
        }
      },
      "cell_type": "code",
      "source": [
        "# Reconstructs `signals` from `frames` produced in the above example. However,\n",
        "# the magnitude of `reconstructed_signals` will be greater than `signals`.\n",
        "reconstructed_signals = tf.contrib.signal.overlap_and_add(frames, frame_step=32)\n",
        "print(reconstructed_signals.numpy().shape)"
      ],
      "execution_count": 19,
      "outputs": [
        {
          "output_type": "stream",
          "text": [
            "(1, 59904)\n"
          ],
          "name": "stdout"
        }
      ]
    },
    {
      "metadata": {
        "id": "sbFVZcGow1Ow",
        "colab_type": "code",
        "outputId": "fb82fea2-0ea2-4ae6-b117-b585076df64a",
        "colab": {
          "base_uri": "https://localhost:8080/",
          "height": 35
        }
      },
      "cell_type": "code",
      "source": [
        "frame_length = 128\n",
        "frame_step = 32\n",
        "windowed_frames = frames * tf.contrib.signal.hann_window(frame_length)\n",
        "print(windowed_frames.get_shape())"
      ],
      "execution_count": 20,
      "outputs": [
        {
          "output_type": "stream",
          "text": [
            "(1, 1869, 128)\n"
          ],
          "name": "stdout"
        }
      ]
    },
    {
      "metadata": {
        "id": "id6hgFskw1O1",
        "colab_type": "code",
        "outputId": "c4b403f7-1218-4e95-cb8c-7f4bb5dd2433",
        "colab": {
          "base_uri": "https://localhost:8080/",
          "height": 35
        }
      },
      "cell_type": "code",
      "source": [
        "reconstructed_signals = tf.contrib.signal.overlap_and_add(\n",
        "    windowed_frames, frame_step)\n",
        "reconstructed_signals.numpy().shape"
      ],
      "execution_count": 21,
      "outputs": [
        {
          "output_type": "execute_result",
          "data": {
            "text/plain": [
              "(1, 59904)"
            ]
          },
          "metadata": {
            "tags": []
          },
          "execution_count": 21
        }
      ]
    },
    {
      "metadata": {
        "id": "U--ioF4sw1O6",
        "colab_type": "text"
      },
      "cell_type": "markdown",
      "source": [
        "## Computing spectrograms\n",
        " [Short-time Fourier Transform](https://en.wikipedia.org/wiki/Short-time_Fourier_transform) (STFT)"
      ]
    },
    {
      "metadata": {
        "id": "lA8gSwcyw1O6",
        "colab_type": "code",
        "outputId": "a12ecffe-0b7b-43a5-f150-d8069aee1037",
        "colab": {
          "base_uri": "https://localhost:8080/",
          "height": 35
        }
      },
      "cell_type": "code",
      "source": [
        "# `stfts` is a complex64 Tensor representing the Short-time Fourier Transform of\n",
        "# each signal in `signals`. Its shape is [batch_size, ?, fft_unique_bins]\n",
        "# where fft_unique_bins = fft_length // 2 + 1 = 513.\n",
        "stfts = tf.contrib.signal.stft(signals, frame_length=1024, frame_step=512,\n",
        "                               fft_length=1024)\n",
        "\n",
        "print(stfts.numpy().shape)\n",
        "\n",
        "# array = stfts.numpy().astype(np.float)[0]\n",
        "# plt.imshow(np.swapaxes(array,0,1))"
      ],
      "execution_count": 22,
      "outputs": [
        {
          "output_type": "stream",
          "text": [
            "(1, 116, 513)\n"
          ],
          "name": "stdout"
        }
      ]
    },
    {
      "metadata": {
        "id": "gPZFUDdYPzsj",
        "colab_type": "code",
        "outputId": "965f42b1-3e16-4559-df11-57f0267a9ad6",
        "colab": {
          "base_uri": "https://localhost:8080/",
          "height": 35
        }
      },
      "cell_type": "code",
      "source": [
        "# a complex number \n",
        "stfts.numpy()[0][0][0]"
      ],
      "execution_count": 23,
      "outputs": [
        {
          "output_type": "execute_result",
          "data": {
            "text/plain": [
              "(3.6409717+0j)"
            ]
          },
          "metadata": {
            "tags": []
          },
          "execution_count": 23
        }
      ]
    },
    {
      "metadata": {
        "id": "r-bVQcY0w1O-",
        "colab_type": "text"
      },
      "cell_type": "markdown",
      "source": [
        "### power_spectrograms"
      ]
    },
    {
      "metadata": {
        "id": "T7pDG6CHw1O_",
        "colab_type": "code",
        "outputId": "e1802a66-5975-4b1f-d8ea-375c63f3115f",
        "colab": {
          "base_uri": "https://localhost:8080/",
          "height": 305
        }
      },
      "cell_type": "code",
      "source": [
        "# A power spectrogram is the squared magnitude of the complex-valued STFT.\n",
        "# A float32 Tensor of shape [batch_size, ?, 513].\n",
        "power_spectrograms = tf.real(stfts * tf.conj(stfts))\n",
        "\n",
        "print(power_spectrograms.numpy().shape)\n",
        "\n",
        "array = power_spectrograms.numpy().astype(np.float)[0]\n",
        "plt.imshow(np.swapaxes(array,0,1))"
      ],
      "execution_count": 24,
      "outputs": [
        {
          "output_type": "stream",
          "text": [
            "(1, 116, 513)\n"
          ],
          "name": "stdout"
        },
        {
          "output_type": "execute_result",
          "data": {
            "text/plain": [
              "<matplotlib.image.AxesImage at 0x7fac47352240>"
            ]
          },
          "metadata": {
            "tags": []
          },
          "execution_count": 24
        },
        {
          "output_type": "display_data",
          "data": {
            "image/png": "[encoded data removed]",
            "text/plain": [
              "<matplotlib.figure.Figure at 0x7fac47429b00>"
            ]
          },
          "metadata": {
            "tags": []
          }
        }
      ]
    },
    {
      "metadata": {
        "id": "PN5P0PWnw1PE",
        "colab_type": "text"
      },
      "cell_type": "markdown",
      "source": [
        "### magnitude_spectrograms"
      ]
    },
    {
      "metadata": {
        "id": "R82oYnNpw1PF",
        "colab_type": "code",
        "outputId": "0f5c072e-68c0-4661-f231-f3b2602ff969",
        "colab": {
          "base_uri": "https://localhost:8080/",
          "height": 305
        }
      },
      "cell_type": "code",
      "source": [
        "# An energy spectrogram is the magnitude of the complex-valued STFT.\n",
        "# A float32 Tensor of shape [batch_size, ?, 513].\n",
        "magnitude_spectrograms = tf.abs(stfts)\n",
        "\n",
        "print(magnitude_spectrograms.numpy().shape)\n",
        "\n",
        "array = magnitude_spectrograms.numpy().astype(np.float)[0]\n",
        "plt.imshow(np.swapaxes(array,0,1))"
      ],
      "execution_count": 25,
      "outputs": [
        {
          "output_type": "stream",
          "text": [
            "(1, 116, 513)\n"
          ],
          "name": "stdout"
        },
        {
          "output_type": "execute_result",
          "data": {
            "text/plain": [
              "<matplotlib.image.AxesImage at 0x7fac47328ef0>"
            ]
          },
          "metadata": {
            "tags": []
          },
          "execution_count": 25
        },
        {
          "output_type": "display_data",
          "data": {
            "image/png": "[encoded data removed]",
            "text/plain": [
              "<matplotlib.figure.Figure at 0x7fac47431358>"
            ]
          },
          "metadata": {
            "tags": []
          }
        }
      ]
    },
    {
      "metadata": {
        "id": "Tm_12Kbbw1PJ",
        "colab_type": "text"
      },
      "cell_type": "markdown",
      "source": [
        "## Logarithmic compression"
      ]
    },
    {
      "metadata": {
        "id": "4nCbVZWyw1PK",
        "colab_type": "code",
        "outputId": "c55f251f-5eb9-4279-8ea2-05e74be505c5",
        "colab": {
          "base_uri": "https://localhost:8080/",
          "height": 305
        }
      },
      "cell_type": "code",
      "source": [
        "log_offset = 1e-6\n",
        "log_magnitude_spectrograms = tf.log(magnitude_spectrograms + log_offset)\n",
        "print(log_magnitude_spectrograms.numpy().shape)\n",
        "\n",
        "array = log_magnitude_spectrograms.numpy().astype(np.float)[0]\n",
        "plt.imshow(np.swapaxes(array,0,1))"
      ],
      "execution_count": 26,
      "outputs": [
        {
          "output_type": "stream",
          "text": [
            "(1, 116, 513)\n"
          ],
          "name": "stdout"
        },
        {
          "output_type": "execute_result",
          "data": {
            "text/plain": [
              "<matplotlib.image.AxesImage at 0x7fac472fdf28>"
            ]
          },
          "metadata": {
            "tags": []
          },
          "execution_count": 26
        },
        {
          "output_type": "display_data",
          "data": {
            "image/png": "[encoded data removed]",
            "text/plain": [
              "<matplotlib.figure.Figure at 0x7fac472c57b8>"
            ]
          },
          "metadata": {
            "tags": []
          }
        }
      ]
    },
    {
      "metadata": {
        "id": "sdcfmwEnw1PO",
        "colab_type": "text"
      },
      "cell_type": "markdown",
      "source": [
        "## Computing log-mel spectrograms\n",
        "When working with spectral representations of audio, the [mel scale](https://en.wikipedia.org/wiki/Mel_scale) is a common reweighting of the frequency dimension, which results in a lower-dimensional and more perceptually-relevant representation of the audio."
      ]
    },
    {
      "metadata": {
        "id": "fu_HZ2HGw1PO",
        "colab_type": "code",
        "outputId": "c8040665-0458-4cf7-971a-02cd451dfa08",
        "colab": {
          "base_uri": "https://localhost:8080/",
          "height": 272
        }
      },
      "cell_type": "code",
      "source": [
        "# Warp the linear-scale, magnitude spectrograms into the mel-scale.\n",
        "num_spectrogram_bins = magnitude_spectrograms.shape[-1].value\n",
        "\n",
        "lower_edge_hertz, upper_edge_hertz, num_mel_bins = 80.0, 8000, 64\n",
        "\n",
        "linear_to_mel_weight_matrix = tf.contrib.signal.linear_to_mel_weight_matrix(\n",
        "    num_mel_bins, num_spectrogram_bins, sr, lower_edge_hertz,\n",
        "    upper_edge_hertz)\n",
        "\n",
        "mel_spectrograms = tf.tensordot(\n",
        "    magnitude_spectrograms, linear_to_mel_weight_matrix, 1)\n",
        "\n",
        "print(mel_spectrograms.numpy().shape)\n",
        "\n",
        "array = mel_spectrograms.numpy().astype(np.float)[0]\n",
        "plt.imshow(np.swapaxes(array,0,1))"
      ],
      "execution_count": 27,
      "outputs": [
        {
          "output_type": "stream",
          "text": [
            "(1, 116, 64)\n"
          ],
          "name": "stdout"
        },
        {
          "output_type": "execute_result",
          "data": {
            "text/plain": [
              "<matplotlib.image.AxesImage at 0x7fac4725a7f0>"
            ]
          },
          "metadata": {
            "tags": []
          },
          "execution_count": 27
        },
        {
          "output_type": "display_data",
          "data": {
            "image/png": "[encoded data removed]",
            "text/plain": [
              "<matplotlib.figure.Figure at 0x7fac6a233358>"
            ]
          },
          "metadata": {
            "tags": []
          }
        }
      ]
    },
    {
      "metadata": {
        "id": "qpMpdAs-w1PU",
        "colab_type": "code",
        "outputId": "8ff9a2aa-3b2e-46ed-e57a-4dde91f1c70b",
        "colab": {
          "base_uri": "https://localhost:8080/",
          "height": 35
        }
      },
      "cell_type": "code",
      "source": [
        "mel_spectrograms.set_shape(magnitude_spectrograms.shape[:-1].concatenate(\n",
        "  linear_to_mel_weight_matrix.shape[-1:]))\n",
        "mel_spectrograms.numpy().shape"
      ],
      "execution_count": 28,
      "outputs": [
        {
          "output_type": "execute_result",
          "data": {
            "text/plain": [
              "(1, 116, 64)"
            ]
          },
          "metadata": {
            "tags": []
          },
          "execution_count": 28
        }
      ]
    },
    {
      "metadata": {
        "id": "Zm9ITbk2w1PW",
        "colab_type": "text"
      },
      "cell_type": "markdown",
      "source": [
        "If desired, compress the mel spectrogram magnitudes. For example, you may use logarithmic compression (as discussed in the previous section)."
      ]
    },
    {
      "metadata": {
        "id": "75tqgqQ2w1PX",
        "colab_type": "code",
        "outputId": "e3201796-1aa5-48c3-f028-e6a69fc8fbc9",
        "colab": {
          "base_uri": "https://localhost:8080/",
          "height": 272
        }
      },
      "cell_type": "code",
      "source": [
        "log_offset = 1e-6\n",
        "log_mel_spectrograms = tf.log(mel_spectrograms + log_offset)\n",
        "\n",
        "print(log_mel_spectrograms.numpy().shape)\n",
        "array = log_mel_spectrograms.numpy()[0]\n",
        "plt.imshow(np.swapaxes(array,0,1))"
      ],
      "execution_count": 29,
      "outputs": [
        {
          "output_type": "stream",
          "text": [
            "(1, 116, 64)\n"
          ],
          "name": "stdout"
        },
        {
          "output_type": "execute_result",
          "data": {
            "text/plain": [
              "<matplotlib.image.AxesImage at 0x7fac4723bb00>"
            ]
          },
          "metadata": {
            "tags": []
          },
          "execution_count": 29
        },
        {
          "output_type": "display_data",
          "data": {
            "image/png": "[encoded data removed]",
            "text/plain": [
              "<matplotlib.figure.Figure at 0x7fac472da2e8>"
            ]
          },
          "metadata": {
            "tags": []
          }
        }
      ]
    },
    {
      "metadata": {
        "id": "Es_UbZQtw1Pb",
        "colab_type": "text"
      },
      "cell_type": "markdown",
      "source": [
        "## Computing Mel-Frequency Cepstral Coefficients (MFCCs)"
      ]
    },
    {
      "metadata": {
        "id": "Bb4qYyNnw1Pc",
        "colab_type": "code",
        "outputId": "322fc974-15c0-473d-82be-751d0a99f5d4",
        "colab": {
          "base_uri": "https://localhost:8080/",
          "height": 174
        }
      },
      "cell_type": "code",
      "source": [
        "num_mfccs = 30\n",
        "# Keep the first `num_mfccs` MFCCs.\n",
        "mfccs = tf.contrib.signal.mfccs_from_log_mel_spectrograms(\n",
        "    log_mel_spectrograms)[..., :num_mfccs]\n",
        "print(mfccs.numpy().shape)\n",
        "array = mfccs.numpy()[0]\n",
        "plt.imshow(np.swapaxes(array,0,1)[::-1,:])"
      ],
      "execution_count": 30,
      "outputs": [
        {
          "output_type": "stream",
          "text": [
            "(1, 116, 30)\n"
          ],
          "name": "stdout"
        },
        {
          "output_type": "execute_result",
          "data": {
            "text/plain": [
              "<matplotlib.image.AxesImage at 0x7fac4719de10>"
            ]
          },
          "metadata": {
            "tags": []
          },
          "execution_count": 30
        },
        {
          "output_type": "display_data",
          "data": {
            "image/png": "[encoded data removed]",
            "text/plain": [
              "<matplotlib.figure.Figure at 0x7fac472df2e8>"
            ]
          },
          "metadata": {
            "tags": []
          }
        }
      ]
    },
    {
      "metadata": {
        "id": "MmBoaEtQw1Pg",
        "colab_type": "text"
      },
      "cell_type": "markdown",
      "source": [
        "```signals->stfts->magnitude_spectrograms->mel_spectrograms->log_mel_spectrograms->mfccs```"
      ]
    },
    {
      "metadata": {
        "id": "Nlh19yBUw1Pk",
        "colab_type": "code",
        "colab": {}
      },
      "cell_type": "code",
      "source": [
        "\n",
        "def get_mfccs(audio_file=None ,signals=None, \n",
        "sample_rate = 44100, num_mfccs = 13, \n",
        "frame_length=1024, frame_step=512, \n",
        "fft_length=1024, fmax=8000, fmin=80):\n",
        "    \"\"\"Compute the MFCCs for audio file\n",
        "    \n",
        "    Keyword Arguments:\n",
        "        audio_file {str} -- audio wav file path (default: {None})\n",
        "        signals {tensor} -- input signals as tensor or np.array in float32 type (default: {None})\n",
        "        sample_rate {int} -- sampling rate (default: {44100})\n",
        "        num_mfccs {int} -- number of mfccs to keep (default: {13})\n",
        "        frame_length {int} -- frame length to compute STFT (default: {1024})\n",
        "        frame_step {int} -- frame step to compute STFT (default: {512})\n",
        "        fft_length {int} -- FFT length to compute STFT (default: {1024})\n",
        "        fmax {int} -- Top edge of the highest frequency band (default: {8000})\n",
        "        fmin {int} -- Lower bound on the frequencies to be included in the mel spectrum (default: {80})\n",
        "    \n",
        "    Returns:\n",
        "        Tensor -- mfccs as tf.Tensor\n",
        "    \"\"\"\n",
        "\n",
        "    \n",
        "    if signals is None and audio_file is not None:\n",
        "      audio_binary = tf.read_file(audio_file)\n",
        "      # tf.contrib.ffmpeg not supported on Windows, refer to issue\n",
        "      # https://github.com/tensorflow/tensorflow/issues/8271\n",
        "      waveform = tf.contrib.ffmpeg.decode_audio(audio_binary, \n",
        "          file_format='wav', samples_per_second=sample_rate, channel_count=1)\n",
        "      signals = tf.reshape(waveform, [1, -1])\n",
        "    \n",
        "    # Step 1 : signals->stfts\n",
        "    # `stfts` is a complex64 Tensor representing the Short-time Fourier Transform of\n",
        "    # each signal in `signals`. Its shape is [batch_size, ?, fft_unique_bins]\n",
        "    # where fft_unique_bins = fft_length // 2 + 1 = 513.\n",
        "    stfts = tf.contrib.signal.stft(signals, frame_length=frame_length, frame_step=frame_step,\n",
        "                                   fft_length=fft_length)\n",
        "    # Step2 : stfts->magnitude_spectrograms\n",
        "    # An energy spectrogram is the magnitude of the complex-valued STFT.\n",
        "    # A float32 Tensor of shape [batch_size, ?, 513].\n",
        "    magnitude_spectrograms = tf.abs(stfts)\n",
        "\n",
        "    # Step 3 : magnitude_spectrograms->mel_spectrograms\n",
        "    # Warp the linear-scale, magnitude spectrograms into the mel-scale.\n",
        "    num_spectrogram_bins = magnitude_spectrograms.shape[-1].value\n",
        "\n",
        "    num_mel_bins = 64\n",
        "\n",
        "    linear_to_mel_weight_matrix = tf.contrib.signal.linear_to_mel_weight_matrix(\n",
        "        num_mel_bins, num_spectrogram_bins, sample_rate, fmin,\n",
        "        fmax)\n",
        "\n",
        "    mel_spectrograms = tf.tensordot(\n",
        "        magnitude_spectrograms, linear_to_mel_weight_matrix, 1)\n",
        "\n",
        "    # Step 4 : mel_spectrograms->log_mel_spectrograms\n",
        "    log_offset = 1e-6\n",
        "    log_mel_spectrograms = tf.log(mel_spectrograms + log_offset)\n",
        "\n",
        "    # Step 5 : log_mel_spectrograms->mfccs\n",
        "    # Keep the first `num_mfccs` MFCCs.\n",
        "    mfccs = tf.contrib.signal.mfccs_from_log_mel_spectrograms(\n",
        "        log_mel_spectrograms)[..., :num_mfccs]\n",
        "    \n",
        "    return mfccs"
      ],
      "execution_count": 0,
      "outputs": []
    },
    {
      "metadata": {
        "id": "FZAln11Dw1Pz",
        "colab_type": "code",
        "outputId": "47398e5a-269d-4a1c-9e76-03e72cd66d94",
        "colab": {
          "base_uri": "https://localhost:8080/",
          "height": 174
        }
      },
      "cell_type": "code",
      "source": [
        "mfccs = get_mfccs(signals = signals, sample_rate=sr, num_mfccs = 30)\n",
        "\n",
        "print(\"mfccs shape\", mfccs.numpy().shape)\n",
        "array = mfccs.numpy()[0]\n",
        "plt.imshow(np.swapaxes(array,0,1)[::-1,:])"
      ],
      "execution_count": 32,
      "outputs": [
        {
          "output_type": "stream",
          "text": [
            "mfccs shape (1, 116, 30)\n"
          ],
          "name": "stdout"
        },
        {
          "output_type": "execute_result",
          "data": {
            "text/plain": [
              "<matplotlib.image.AxesImage at 0x7fac471010f0>"
            ]
          },
          "metadata": {
            "tags": []
          },
          "execution_count": 32
        },
        {
          "output_type": "display_data",
          "data": {
            "image/png": "[encoded data removed]",
            "text/plain": [
              "<matplotlib.figure.Figure at 0x7fac47146b70>"
            ]
          },
          "metadata": {
            "tags": []
          }
        }
      ]
    },
    {
      "metadata": {
        "id": "NSB4wf8-ILYm",
        "colab_type": "code",
        "outputId": "e8573a7a-253a-4dca-8890-5d3afcccb75f",
        "colab": {
          "base_uri": "https://localhost:8080/",
          "height": 174
        }
      },
      "cell_type": "code",
      "source": [
        "mfccs = get_mfccs(audio_file = audio_file, sample_rate=sr, num_mfccs = 30)\n",
        "\n",
        "print(\"mfccs shape\", mfccs.numpy().shape)\n",
        "array = mfccs.numpy()[0]\n",
        "plt.imshow(np.swapaxes(array,0,1)[::-1,:])"
      ],
      "execution_count": 33,
      "outputs": [
        {
          "output_type": "stream",
          "text": [
            "mfccs shape (1, 116, 30)\n"
          ],
          "name": "stdout"
        },
        {
          "output_type": "execute_result",
          "data": {
            "text/plain": [
              "<matplotlib.image.AxesImage at 0x7fac470d41d0>"
            ]
          },
          "metadata": {
            "tags": []
          },
          "execution_count": 33
        },
        {
          "output_type": "display_data",
          "data": {
            "image/png": "[encoded data removed]",
            "text/plain": [
              "<matplotlib.figure.Figure at 0x7fac4720c4e0>"
            ]
          },
          "metadata": {
            "tags": []
          }
        }
      ]
    },
    {
      "metadata": {
        "id": "oZa1wrnvqWS4",
        "colab_type": "code",
        "colab": {}
      },
      "cell_type": "code",
      "source": [
        ""
      ],
      "execution_count": 0,
      "outputs": []
    }
  ]
}